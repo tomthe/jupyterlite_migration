{
  "metadata": {
    "language_info": {
      "codemirror_mode": {
        "name": "python",
        "version": 3
      },
      "file_extension": ".py",
      "mimetype": "text/x-python",
      "name": "python",
      "nbconvert_exporter": "python",
      "pygments_lexer": "ipython3",
      "version": "3.8"
    },
    "kernelspec": {
      "name": "python",
      "display_name": "Pyolite",
      "language": "python"
    }
  },
  "nbformat_minor": 4,
  "nbformat": 4,
  "cells": [
    {
      "cell_type": "markdown",
      "source": "# Working with the Scholarly Migration Database",
      "metadata": {}
    },
    {
      "cell_type": "markdown",
      "source": "This Python-Notebook demonstrates some simple entry-points for working with the data from the Scholarly Migration Database. This notebook runs completely in your browser - so don't be afraid you can't break anything here :)",
      "metadata": {}
    },
    {
      "cell_type": "code",
      "source": "import pandas as pd\nfrom js import fetch",
      "metadata": {
        "trusted": true
      },
      "execution_count": 7,
      "outputs": []
    },
    {
      "cell_type": "markdown",
      "source": "### Importing the Data\n\n",
      "metadata": {
        "tags": []
      }
    },
    {
      "cell_type": "markdown",
      "source": "#### Importing the country numbers",
      "metadata": {}
    },
    {
      "cell_type": "code",
      "source": "fn_mi = \"https://tomthe.github.io/jupyterlite_migration/files/data/dfmipoppresentation.csv\"\n# In a normal Python-environment you could just use \n# df = pd.read_csv(fn_mi)\n# but because this runs completely in your webbrowser, we have to fetch \n# the data first:\nres = await fetch(fn_mi)\ntext = await res.text()\nfilename = 'dfmipop.csv'\nwith open(filename, 'w') as f:\n    f.write(text)\n\ndfc = pd.read_csv(filename)\ndel dfc[\"Unnamed: 0\"]\ndfc[df_migration[\"countrycode\"]==\"deu\"]",
      "metadata": {
        "trusted": true
      },
      "execution_count": 18,
      "outputs": [
        {
          "execution_count": 18,
          "output_type": "execute_result",
          "data": {
            "text/plain": "    countrycode    year  padded_population_of_researchers  \\\n952         deu  1999.0                           93075.0   \n953         deu  2000.0                           96976.0   \n954         deu  2001.0                           99801.0   \n955         deu  2002.0                          103074.0   \n956         deu  2003.0                          108460.0   \n957         deu  2004.0                          114841.0   \n958         deu  2005.0                          120197.0   \n959         deu  2006.0                          123553.0   \n960         deu  2007.0                          126329.0   \n961         deu  2008.0                          129338.0   \n962         deu  2009.0                          137051.0   \n963         deu  2010.0                          141447.0   \n964         deu  2011.0                          143796.0   \n965         deu  2012.0                          143312.0   \n966         deu  2013.0                          140150.0   \n967         deu  2014.0                          138091.0   \n968         deu  2015.0                          134953.0   \n969         deu  2016.0                          131310.0   \n970         deu  2017.0                          126224.0   \n971         deu  2018.0                          119361.0   \n\n     number_of_inmigrations  number_of_outmigrations  netmigration  \\\n952                  2436.0                   2689.0        -253.0   \n953                  2790.0                   2915.0        -125.0   \n954                  3219.0                   3204.0          15.0   \n955                  3374.0                   3552.0        -178.0   \n956                  3285.0                   3446.0        -161.0   \n957                  2828.0                   3102.0        -274.0   \n958                  2935.0                   3338.0        -403.0   \n959                  2916.0                   3692.0        -776.0   \n960                  3078.0                   3766.0        -688.0   \n961                  3263.0                   4098.0        -835.0   \n962                  3779.0                   4116.0        -337.0   \n963                  4131.0                   4175.0         -44.0   \n964                  4147.0                   4485.0        -338.0   \n965                  4378.0                   4405.0         -27.0   \n966                  4433.0                   4493.0         -60.0   \n967                  4643.0                   4528.0         115.0   \n968                  4422.0                   4619.0        -197.0   \n969                  4499.0                   4523.0         -24.0   \n970                  4358.0                   4358.0           0.0   \n971                  4042.0                   4274.0        -232.0   \n\n     inmigrationrate  outmigrationrate  netmigrationrate  gdp_per_capita  \\\n952         0.026172          0.028891         -0.002718    26725.915218   \n953         0.028770          0.030059         -0.001289    23635.929220   \n954         0.032254          0.032104          0.000150    23607.882855   \n955         0.032734          0.034461         -0.001727    25077.729076   \n956         0.030288          0.031772         -0.001484    30243.576530   \n957         0.024625          0.027011         -0.002386    34044.053634   \n958         0.024418          0.027771         -0.003353    34507.368814   \n959         0.023601          0.029882         -0.006281    36323.447742   \n960         0.024365          0.029811         -0.005446    41587.212898   \n961         0.025228          0.031684         -0.006456    45427.151677   \n962         0.027574          0.030033         -0.002459    41485.901650   \n963         0.029205          0.029516         -0.000311    41531.934198   \n964         0.028839          0.031190         -0.002351    46644.776028   \n965         0.030549          0.030737         -0.000188    43858.363055   \n966         0.031630          0.032059         -0.000428    46285.764069   \n967         0.033623          0.032790          0.000833    47959.993274   \n968         0.032767          0.034227         -0.001460    41086.729674   \n969         0.034262          0.034445         -0.000183    42107.517270   \n970         0.034526          0.034526          0.000000    44442.771840   \n971         0.033864          0.035807         -0.001944    47787.160507   \n\n     mean_n_researchers  \n952           123566.95  \n953           123566.95  \n954           123566.95  \n955           123566.95  \n956           123566.95  \n957           123566.95  \n958           123566.95  \n959           123566.95  \n960           123566.95  \n961           123566.95  \n962           123566.95  \n963           123566.95  \n964           123566.95  \n965           123566.95  \n966           123566.95  \n967           123566.95  \n968           123566.95  \n969           123566.95  \n970           123566.95  \n971           123566.95  ",
            "text/html": "<div>\n<style scoped>\n    .dataframe tbody tr th:only-of-type {\n        vertical-align: middle;\n    }\n\n    .dataframe tbody tr th {\n        vertical-align: top;\n    }\n\n    .dataframe thead th {\n        text-align: right;\n    }\n</style>\n<table border=\"1\" class=\"dataframe\">\n  <thead>\n    <tr style=\"text-align: right;\">\n      <th></th>\n      <th>countrycode</th>\n      <th>year</th>\n      <th>padded_population_of_researchers</th>\n      <th>number_of_inmigrations</th>\n      <th>number_of_outmigrations</th>\n      <th>netmigration</th>\n      <th>inmigrationrate</th>\n      <th>outmigrationrate</th>\n      <th>netmigrationrate</th>\n      <th>gdp_per_capita</th>\n      <th>mean_n_researchers</th>\n    </tr>\n  </thead>\n  <tbody>\n    <tr>\n      <th>952</th>\n      <td>deu</td>\n      <td>1999.0</td>\n      <td>93075.0</td>\n      <td>2436.0</td>\n      <td>2689.0</td>\n      <td>-253.0</td>\n      <td>0.026172</td>\n      <td>0.028891</td>\n      <td>-0.002718</td>\n      <td>26725.915218</td>\n      <td>123566.95</td>\n    </tr>\n    <tr>\n      <th>953</th>\n      <td>deu</td>\n      <td>2000.0</td>\n      <td>96976.0</td>\n      <td>2790.0</td>\n      <td>2915.0</td>\n      <td>-125.0</td>\n      <td>0.028770</td>\n      <td>0.030059</td>\n      <td>-0.001289</td>\n      <td>23635.929220</td>\n      <td>123566.95</td>\n    </tr>\n    <tr>\n      <th>954</th>\n      <td>deu</td>\n      <td>2001.0</td>\n      <td>99801.0</td>\n      <td>3219.0</td>\n      <td>3204.0</td>\n      <td>15.0</td>\n      <td>0.032254</td>\n      <td>0.032104</td>\n      <td>0.000150</td>\n      <td>23607.882855</td>\n      <td>123566.95</td>\n    </tr>\n    <tr>\n      <th>955</th>\n      <td>deu</td>\n      <td>2002.0</td>\n      <td>103074.0</td>\n      <td>3374.0</td>\n      <td>3552.0</td>\n      <td>-178.0</td>\n      <td>0.032734</td>\n      <td>0.034461</td>\n      <td>-0.001727</td>\n      <td>25077.729076</td>\n      <td>123566.95</td>\n    </tr>\n    <tr>\n      <th>956</th>\n      <td>deu</td>\n      <td>2003.0</td>\n      <td>108460.0</td>\n      <td>3285.0</td>\n      <td>3446.0</td>\n      <td>-161.0</td>\n      <td>0.030288</td>\n      <td>0.031772</td>\n      <td>-0.001484</td>\n      <td>30243.576530</td>\n      <td>123566.95</td>\n    </tr>\n    <tr>\n      <th>957</th>\n      <td>deu</td>\n      <td>2004.0</td>\n      <td>114841.0</td>\n      <td>2828.0</td>\n      <td>3102.0</td>\n      <td>-274.0</td>\n      <td>0.024625</td>\n      <td>0.027011</td>\n      <td>-0.002386</td>\n      <td>34044.053634</td>\n      <td>123566.95</td>\n    </tr>\n    <tr>\n      <th>958</th>\n      <td>deu</td>\n      <td>2005.0</td>\n      <td>120197.0</td>\n      <td>2935.0</td>\n      <td>3338.0</td>\n      <td>-403.0</td>\n      <td>0.024418</td>\n      <td>0.027771</td>\n      <td>-0.003353</td>\n      <td>34507.368814</td>\n      <td>123566.95</td>\n    </tr>\n    <tr>\n      <th>959</th>\n      <td>deu</td>\n      <td>2006.0</td>\n      <td>123553.0</td>\n      <td>2916.0</td>\n      <td>3692.0</td>\n      <td>-776.0</td>\n      <td>0.023601</td>\n      <td>0.029882</td>\n      <td>-0.006281</td>\n      <td>36323.447742</td>\n      <td>123566.95</td>\n    </tr>\n    <tr>\n      <th>960</th>\n      <td>deu</td>\n      <td>2007.0</td>\n      <td>126329.0</td>\n      <td>3078.0</td>\n      <td>3766.0</td>\n      <td>-688.0</td>\n      <td>0.024365</td>\n      <td>0.029811</td>\n      <td>-0.005446</td>\n      <td>41587.212898</td>\n      <td>123566.95</td>\n    </tr>\n    <tr>\n      <th>961</th>\n      <td>deu</td>\n      <td>2008.0</td>\n      <td>129338.0</td>\n      <td>3263.0</td>\n      <td>4098.0</td>\n      <td>-835.0</td>\n      <td>0.025228</td>\n      <td>0.031684</td>\n      <td>-0.006456</td>\n      <td>45427.151677</td>\n      <td>123566.95</td>\n    </tr>\n    <tr>\n      <th>962</th>\n      <td>deu</td>\n      <td>2009.0</td>\n      <td>137051.0</td>\n      <td>3779.0</td>\n      <td>4116.0</td>\n      <td>-337.0</td>\n      <td>0.027574</td>\n      <td>0.030033</td>\n      <td>-0.002459</td>\n      <td>41485.901650</td>\n      <td>123566.95</td>\n    </tr>\n    <tr>\n      <th>963</th>\n      <td>deu</td>\n      <td>2010.0</td>\n      <td>141447.0</td>\n      <td>4131.0</td>\n      <td>4175.0</td>\n      <td>-44.0</td>\n      <td>0.029205</td>\n      <td>0.029516</td>\n      <td>-0.000311</td>\n      <td>41531.934198</td>\n      <td>123566.95</td>\n    </tr>\n    <tr>\n      <th>964</th>\n      <td>deu</td>\n      <td>2011.0</td>\n      <td>143796.0</td>\n      <td>4147.0</td>\n      <td>4485.0</td>\n      <td>-338.0</td>\n      <td>0.028839</td>\n      <td>0.031190</td>\n      <td>-0.002351</td>\n      <td>46644.776028</td>\n      <td>123566.95</td>\n    </tr>\n    <tr>\n      <th>965</th>\n      <td>deu</td>\n      <td>2012.0</td>\n      <td>143312.0</td>\n      <td>4378.0</td>\n      <td>4405.0</td>\n      <td>-27.0</td>\n      <td>0.030549</td>\n      <td>0.030737</td>\n      <td>-0.000188</td>\n      <td>43858.363055</td>\n      <td>123566.95</td>\n    </tr>\n    <tr>\n      <th>966</th>\n      <td>deu</td>\n      <td>2013.0</td>\n      <td>140150.0</td>\n      <td>4433.0</td>\n      <td>4493.0</td>\n      <td>-60.0</td>\n      <td>0.031630</td>\n      <td>0.032059</td>\n      <td>-0.000428</td>\n      <td>46285.764069</td>\n      <td>123566.95</td>\n    </tr>\n    <tr>\n      <th>967</th>\n      <td>deu</td>\n      <td>2014.0</td>\n      <td>138091.0</td>\n      <td>4643.0</td>\n      <td>4528.0</td>\n      <td>115.0</td>\n      <td>0.033623</td>\n      <td>0.032790</td>\n      <td>0.000833</td>\n      <td>47959.993274</td>\n      <td>123566.95</td>\n    </tr>\n    <tr>\n      <th>968</th>\n      <td>deu</td>\n      <td>2015.0</td>\n      <td>134953.0</td>\n      <td>4422.0</td>\n      <td>4619.0</td>\n      <td>-197.0</td>\n      <td>0.032767</td>\n      <td>0.034227</td>\n      <td>-0.001460</td>\n      <td>41086.729674</td>\n      <td>123566.95</td>\n    </tr>\n    <tr>\n      <th>969</th>\n      <td>deu</td>\n      <td>2016.0</td>\n      <td>131310.0</td>\n      <td>4499.0</td>\n      <td>4523.0</td>\n      <td>-24.0</td>\n      <td>0.034262</td>\n      <td>0.034445</td>\n      <td>-0.000183</td>\n      <td>42107.517270</td>\n      <td>123566.95</td>\n    </tr>\n    <tr>\n      <th>970</th>\n      <td>deu</td>\n      <td>2017.0</td>\n      <td>126224.0</td>\n      <td>4358.0</td>\n      <td>4358.0</td>\n      <td>0.0</td>\n      <td>0.034526</td>\n      <td>0.034526</td>\n      <td>0.000000</td>\n      <td>44442.771840</td>\n      <td>123566.95</td>\n    </tr>\n    <tr>\n      <th>971</th>\n      <td>deu</td>\n      <td>2018.0</td>\n      <td>119361.0</td>\n      <td>4042.0</td>\n      <td>4274.0</td>\n      <td>-232.0</td>\n      <td>0.033864</td>\n      <td>0.035807</td>\n      <td>-0.001944</td>\n      <td>47787.160507</td>\n      <td>123566.95</td>\n    </tr>\n  </tbody>\n</table>\n</div>"
          },
          "metadata": {}
        }
      ]
    },
    {
      "cell_type": "markdown",
      "source": "#### Importing the country-to-country flows",
      "metadata": {}
    },
    {
      "cell_type": "code",
      "source": "fn_ccy = \"https://tomthe.github.io/jupyterlite_migration/files/data/countrycountryyear.csv\"\nres = await fetch(fn_ccy)\ntext = await res.text()\nfilename = 'dfmipop.csv'\nwith open(filename, 'w') as f:\n    f.write(text)\n\ndfccy = pd.read_csv(filename)\ndel dfccy[\"Unnamed: 0\"]\ndfccy = dfccy[dfccy[\"n_migrations\"] > 3]\nprint(dfccy.shape)\ndfccy.head(10) #[df_ccy[\"migrationfrom\"]==\"deu\"]",
      "metadata": {
        "trusted": true
      },
      "execution_count": 16,
      "outputs": [
        {
          "name": "stdout",
          "text": "(34860, 4)\n",
          "output_type": "stream"
        },
        {
          "execution_count": 16,
          "output_type": "execute_result",
          "data": {
            "text/plain": "    migrationfrom migrationto  migrationyearpadding  n_migrations\n52            afg         gbr                2016.0             4\n96            afg         usa                2010.0             4\n97            afg         usa                2011.0             5\n98            afg         usa                2012.0             6\n99            afg         usa                2013.0             5\n103           afg         usa                2017.0             8\n105           afg         usa                2019.0             5\n106           afg         usa                2020.0            14\n177           alb         arg                2019.0             6\n226           alb         srb                2011.0             4",
            "text/html": "<div>\n<style scoped>\n    .dataframe tbody tr th:only-of-type {\n        vertical-align: middle;\n    }\n\n    .dataframe tbody tr th {\n        vertical-align: top;\n    }\n\n    .dataframe thead th {\n        text-align: right;\n    }\n</style>\n<table border=\"1\" class=\"dataframe\">\n  <thead>\n    <tr style=\"text-align: right;\">\n      <th></th>\n      <th>migrationfrom</th>\n      <th>migrationto</th>\n      <th>migrationyearpadding</th>\n      <th>n_migrations</th>\n    </tr>\n  </thead>\n  <tbody>\n    <tr>\n      <th>52</th>\n      <td>afg</td>\n      <td>gbr</td>\n      <td>2016.0</td>\n      <td>4</td>\n    </tr>\n    <tr>\n      <th>96</th>\n      <td>afg</td>\n      <td>usa</td>\n      <td>2010.0</td>\n      <td>4</td>\n    </tr>\n    <tr>\n      <th>97</th>\n      <td>afg</td>\n      <td>usa</td>\n      <td>2011.0</td>\n      <td>5</td>\n    </tr>\n    <tr>\n      <th>98</th>\n      <td>afg</td>\n      <td>usa</td>\n      <td>2012.0</td>\n      <td>6</td>\n    </tr>\n    <tr>\n      <th>99</th>\n      <td>afg</td>\n      <td>usa</td>\n      <td>2013.0</td>\n      <td>5</td>\n    </tr>\n    <tr>\n      <th>103</th>\n      <td>afg</td>\n      <td>usa</td>\n      <td>2017.0</td>\n      <td>8</td>\n    </tr>\n    <tr>\n      <th>105</th>\n      <td>afg</td>\n      <td>usa</td>\n      <td>2019.0</td>\n      <td>5</td>\n    </tr>\n    <tr>\n      <th>106</th>\n      <td>afg</td>\n      <td>usa</td>\n      <td>2020.0</td>\n      <td>14</td>\n    </tr>\n    <tr>\n      <th>177</th>\n      <td>alb</td>\n      <td>arg</td>\n      <td>2019.0</td>\n      <td>6</td>\n    </tr>\n    <tr>\n      <th>226</th>\n      <td>alb</td>\n      <td>srb</td>\n      <td>2011.0</td>\n      <td>4</td>\n    </tr>\n  </tbody>\n</table>\n</div>"
          },
          "metadata": {}
        }
      ]
    },
    {
      "cell_type": "code",
      "source": "",
      "metadata": {},
      "execution_count": null,
      "outputs": []
    },
    {
      "cell_type": "markdown",
      "source": "## Plotting",
      "metadata": {}
    },
    {
      "cell_type": "code",
      "source": "# first we filter out a subset of countries with the most researchers (more than 20,000 researchers)\ndfmimost = dfc.groupby(\"countrycode\").mean().reset_index()\ndfmimost = dfmimost[dfmimost[\"padded_population_of_researchers\"]>20000]\nmostcountries = dfmimost.sort_values(\"padded_population_of_researchers\",ascending=False)[\"countrycode\"].tolist()\ndfmigdpsomeimportant = dfc[dfc[\"countrycode\"].isin(mostcountries)]\nprint(len(mostcountries), mostcountries)\n",
      "metadata": {
        "trusted": true
      },
      "execution_count": 42,
      "outputs": [
        {
          "name": "stdout",
          "text": "22 ['USA', 'CHN', 'JPN', 'GBR', 'DEU', 'ITA', 'IND', 'FRA', 'ESP', 'KOR', 'BRA', 'CAN', 'AUS', 'RUS', 'NLD', 'TUR', 'POL', 'IRN', 'SWE', 'CHE', 'BEL', 'MEX']\n",
          "output_type": "stream"
        }
      ]
    },
    {
      "cell_type": "code",
      "source": "import matplotlib",
      "metadata": {
        "trusted": true
      },
      "execution_count": 41,
      "outputs": []
    },
    {
      "cell_type": "code",
      "source": "",
      "metadata": {},
      "execution_count": null,
      "outputs": []
    },
    {
      "cell_type": "code",
      "source": "import micropip\nawait micropip.install(\"plotly\")\nimport plotly\nimport plotly.express as px",
      "metadata": {
        "trusted": true
      },
      "execution_count": 32,
      "outputs": []
    },
    {
      "cell_type": "code",
      "source": "",
      "metadata": {},
      "execution_count": null,
      "outputs": []
    },
    {
      "cell_type": "code",
      "source": "",
      "metadata": {},
      "execution_count": null,
      "outputs": []
    },
    {
      "cell_type": "code",
      "source": "await micropip.install(\"altair\")\nimport altair as alt",
      "metadata": {
        "trusted": true
      },
      "execution_count": 39,
      "outputs": []
    },
    {
      "cell_type": "code",
      "source": "alt.",
      "metadata": {},
      "execution_count": null,
      "outputs": []
    },
    {
      "cell_type": "code",
      "source": "",
      "metadata": {},
      "execution_count": null,
      "outputs": []
    },
    {
      "cell_type": "code",
      "source": "",
      "metadata": {
        "trusted": true
      },
      "execution_count": 40,
      "outputs": []
    },
    {
      "cell_type": "code",
      "source": "",
      "metadata": {},
      "execution_count": null,
      "outputs": []
    }
  ]
}